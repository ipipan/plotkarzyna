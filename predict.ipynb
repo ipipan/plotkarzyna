{
 "cells": [
  {
   "cell_type": "code",
   "execution_count": 1,
   "metadata": {},
   "outputs": [
    {
     "name": "stderr",
     "output_type": "stream",
     "text": [
      "[nltk_data] Downloading package punkt to /home/ksaputa/nltk_data...\n",
      "[nltk_data]   Package punkt is already up-to-date!\n"
     ]
    },
    {
     "data": {
      "text/plain": [
       "True"
      ]
     },
     "execution_count": 1,
     "metadata": {},
     "output_type": "execute_result"
    }
   ],
   "source": [
    "from pathlib import Path\n",
    "from dotenv import dotenv_values, load_dotenv\n",
    "\n",
    "import torch\n",
    "import coref_ds\n",
    "from coref_ds.text import Text\n",
    "from coref_ds.mmax.mmax_doc import MmaxDoc\n",
    "from coref_ds.tei.tei_doc import TEIDocument\n",
    "from coref_ds.tei.mention import Mention\n",
    "\n",
    "from plotkarzyna.model import get_model, predict\n",
    "from plotkarzyna.utils import get_head\n",
    "\n",
    "try:\n",
    "    local_config = dotenv_values(\".env\")\n",
    "except FileNotFoundError:\n",
    "    local_config = dict()\n",
    "load_dotenv()"
   ]
  },
  {
   "cell_type": "code",
   "execution_count": 2,
   "metadata": {},
   "outputs": [],
   "source": [
    "n_samples = 100_000_000\n",
    "test_paths = list(\n",
    "    (Path(local_config['PCC_ROOT']) / 'test').iterdir()\n",
    "    )[:n_samples]"
   ]
  },
  {
   "cell_type": "code",
   "execution_count": 3,
   "metadata": {},
   "outputs": [],
   "source": [
    "tei_docs = []\n",
    "for p in test_paths:\n",
    "    try: \n",
    "        m = TEIDocument(p)\n",
    "        tei_docs.append(m)\n",
    "    except Exception as e:\n",
    "        print(e)"
   ]
  },
  {
   "cell_type": "code",
   "execution_count": 4,
   "metadata": {},
   "outputs": [],
   "source": [
    "checkpoint_path = '/home/ksaputa/mspace/plotkarzyna/models/herbert-large-2/checkpoint-6240'\n",
    "tokenizer, model = get_model(checkpoint_path)"
   ]
  },
  {
   "cell_type": "code",
   "execution_count": 5,
   "metadata": {},
   "outputs": [
    {
     "name": "stdout",
     "output_type": "stream",
     "text": [
      "0 1 2 3 4 5 6 7 8 9 10 11 12 13 14 "
     ]
    },
    {
     "name": "stderr",
     "output_type": "stream",
     "text": [
      "Token indices sequence length is longer than the specified maximum sequence length for this model (514 > 512). Running this sequence through the model will result in indexing errors\n"
     ]
    },
    {
     "name": "stdout",
     "output_type": "stream",
     "text": [
      "15 16 17 18 19 20 21 22 23 24 25 26 27 28 29 30 31 32 33 34 35 36 37 38 39 40 41 42 43 44 45 46 47 48 49 50 51 52 53 54 55 56 57 58 59 60 61 62 63 64 65 66 67 68 69 70 71 72 73 74 75 76 77 78 79 80 81 82 83 84 85 86 87 88 89 90 91 92 93 94 95 96 97 98 99 100 101 102 103 104 105 106 107 108 109 110 111 112 113 114 115 116 117 118 119 120 121 122 123 124 125 126 127 128 129 130 131 132 133 134 135 136 137 138 139 140 141 142 143 144 145 146 147 148 149 150 151 152 153 154 155 156 157 158 159 160 161 162 163 164 165 166 167 168 169 170 171 172 173 174 175 176 177 178 179 180 181 182 183 184 185 186 187 188 189 190 191 192 193 194 195 196 197 198 199 "
     ]
    }
   ],
   "source": [
    "preds = []\n",
    "for ind, doc in enumerate(tei_docs):\n",
    "    print(ind, end=' ')\n",
    "    pred = predict(doc.text.segments, model, tokenizer)\n",
    "    preds.append(pred)"
   ]
  },
  {
   "cell_type": "code",
   "execution_count": 6,
   "metadata": {},
   "outputs": [],
   "source": [
    "import spacy\n",
    "# spacy.cli.download('pl_core_news_lg')"
   ]
  },
  {
   "cell_type": "code",
   "execution_count": 7,
   "metadata": {},
   "outputs": [],
   "source": [
    "nlp = spacy.load(\"pl_core_news_lg\")"
   ]
  },
  {
   "cell_type": "code",
   "execution_count": 8,
   "metadata": {},
   "outputs": [
    {
     "data": {
      "text/plain": [
       "1"
      ]
     },
     "execution_count": 8,
     "metadata": {},
     "output_type": "execute_result"
    }
   ],
   "source": [
    "get_head(['Ala', 'ma', 'kota', '.'], nlp)"
   ]
  },
  {
   "cell_type": "code",
   "execution_count": 9,
   "metadata": {},
   "outputs": [
    {
     "name": "stdout",
     "output_type": "stream",
     "text": [
      "/home/ksaputa/mspace/dataset/dataset/PCC-1.5-TEI-split/test/579\n",
      "0 317 319 ['obecności', 'lekarza'] ['Gabinety', 'bez', 'lekarzy', 'Jeden', 'lekarz', '\"', 'na', 'dochodne', '\"', 'i', 'niecałe', 'sześć', 'pielęgniarek', '(', 'tylko', 'pięć', 'i', 'pół', 'etatu', ')', 'na', '7', 'tysięcy', 'uczniów', '-', 'tak', 'w', 'zgierskich', 'szkołach', 'wygląda', 'opieka', 'medyczna', '.', 'Innej', 'nie', 'będzie', ',', 'bo', 'medycyna', 'szkolna', 'jest', 'na', 'szarym', 'końcu', 'długiej', 'listy', 'potrzeb', '.', 'Lekarz', 'i', 'pielęgniarki', 'objechać', 'muszą', 'w', 'tygodniu', '17', 'miejskich', 'szkół', '.', 'Tylko', 'dwa', 'razy', 'w', 'tygodniu', 'pielęgniarka', 'jest', 'w', 'szkolnym', 'gabinecie', 'lekarskim', 'przez', '8', 'godzin', '.', '-', 'Standardy', 'szkolnej', 'medycyny', 'mówią', 'o', '800', 'uczniach', 'przypadających', 'na', 'jedną', 'pielęgniarkę', '.', 'W', 'Zgierzu', 'przypada', 'na', 'każdą', 'z', 'nas', 'aż', '1300', 'dzieciaków', '-', 'mówi', 'Aleksandra', 'Kwaśniewska', ',', 'koordynująca', 'w', 'Zgierzu', 'pracę', 'szkolnych', 'pielęgniarek', '.', '-', 'Cały', 'czas', 'dużo', 'się', 'mówi', 'o', 'konieczności', 'powrotu', 'pielęgniarek', 'do', 'szkół', 'i', 'na', 'tym', 'praktycznie', 'się', 'kończy', 'Narodowy', 'Fundusz', 'Zdrowia', 'w', 'kontraktach', 'przeznacza', 'tylko', '15', 'zł', 'na', 'opiekę', 'nad', 'jednym', 'uczniem', 'na', 'rok', '.', 'Pieniędzy', 'starcza', 'więc', 'tylko', 'na', 'te', 'pięć', 'i', 'pół', 'etatu', 'pielęgniarskiego', 'i', 'pół', 'etatu', 'lekarskiego', '.', 'Żeby', 'opieka', 'była', 'na', 'stałe', ',', 'samorządy', 'powinny', 'dołożyć', 'trochę', 'pieniędzy', 'z', 'własnych', 'budżetów', '.', 'Jednak', 'i', 'one', 'nie', 'mają', ',', 'więc', 'jest', 'jak', 'jest', 'W', 'szkołach', 'specjalnych', 'na', '200', 'podopiecznych', 'przynajmniej', 'jedna', 'pielęgniarka', 'powinna', 'być', 'zatrudniona', 'na', 'stałe', '.', 'W', 'Zgierzu', 'jest', 'jedna', ',', 'ale', 'dochodząca', 'raz', 'w', 'tygodniu', '.', 'W', 'szkole', 'liczą', ',', 'że', 'może', 'starostwo', 'dołoży', 'parę', 'groszy', 'i', 'w', 'ten', 'sposób', 'uda', 'się', 'zatrudnić', 'pielęgniarkę', 'na', 'stałe', 'Klucz', 'od', 'gabinetu', 'lekarskiego', 'wisi', 'w', 'każdej', 'ze', 'szkół', 'zawsze', 'w', 'pokoju', 'nauczycielskim', '.', 'Dostęp', 'do', 'podstawowych', 'leków', 'nie', 'wymaga', 'specjalnej', 'zgody', ',', 'tym', 'bardziej', 'że', 'to', 'właśnie', 'na', 'szkoły', 'spada', 'obowiązek', 'zaopatrywania', 'w', 'leki', 'własnych', 'gabinetów', '.', 'W', 'razie', 'potrzeby', 'nauczyciele', 'wuefu', 'sami', 'zakładają', 'opatrunki', 'na', 'skaleczone', 'miejsca', 'albo', 'podają', 'krople', 'żołądkowe', 'lub', 'leki', 'przeciwbólowe', '.', 'W', 'ciężkich', 'przypadkach', 'wzywa', 'się', 'pogotowie', '.', 'Jednak', 'nauczyciel', ',', 'nawet', 'po', 'przeszkoleniu', 'w', 'ramach', 'pierwszej', 'pomocy', ',', 'nie', 'zaszczepi', 'dziecka', '.', 'Musi', 'to', 'zrobić', 'pielęgniarka', 'i', 'to', 'w', 'obecności', 'lekarza']\n",
      "/home/ksaputa/mspace/dataset/dataset/PCC-1.5-TEI-split/test/579\n",
      "0 318 319 ['lekarza'] ['Gabinety', 'bez', 'lekarzy', 'Jeden', 'lekarz', '\"', 'na', 'dochodne', '\"', 'i', 'niecałe', 'sześć', 'pielęgniarek', '(', 'tylko', 'pięć', 'i', 'pół', 'etatu', ')', 'na', '7', 'tysięcy', 'uczniów', '-', 'tak', 'w', 'zgierskich', 'szkołach', 'wygląda', 'opieka', 'medyczna', '.', 'Innej', 'nie', 'będzie', ',', 'bo', 'medycyna', 'szkolna', 'jest', 'na', 'szarym', 'końcu', 'długiej', 'listy', 'potrzeb', '.', 'Lekarz', 'i', 'pielęgniarki', 'objechać', 'muszą', 'w', 'tygodniu', '17', 'miejskich', 'szkół', '.', 'Tylko', 'dwa', 'razy', 'w', 'tygodniu', 'pielęgniarka', 'jest', 'w', 'szkolnym', 'gabinecie', 'lekarskim', 'przez', '8', 'godzin', '.', '-', 'Standardy', 'szkolnej', 'medycyny', 'mówią', 'o', '800', 'uczniach', 'przypadających', 'na', 'jedną', 'pielęgniarkę', '.', 'W', 'Zgierzu', 'przypada', 'na', 'każdą', 'z', 'nas', 'aż', '1300', 'dzieciaków', '-', 'mówi', 'Aleksandra', 'Kwaśniewska', ',', 'koordynująca', 'w', 'Zgierzu', 'pracę', 'szkolnych', 'pielęgniarek', '.', '-', 'Cały', 'czas', 'dużo', 'się', 'mówi', 'o', 'konieczności', 'powrotu', 'pielęgniarek', 'do', 'szkół', 'i', 'na', 'tym', 'praktycznie', 'się', 'kończy', 'Narodowy', 'Fundusz', 'Zdrowia', 'w', 'kontraktach', 'przeznacza', 'tylko', '15', 'zł', 'na', 'opiekę', 'nad', 'jednym', 'uczniem', 'na', 'rok', '.', 'Pieniędzy', 'starcza', 'więc', 'tylko', 'na', 'te', 'pięć', 'i', 'pół', 'etatu', 'pielęgniarskiego', 'i', 'pół', 'etatu', 'lekarskiego', '.', 'Żeby', 'opieka', 'była', 'na', 'stałe', ',', 'samorządy', 'powinny', 'dołożyć', 'trochę', 'pieniędzy', 'z', 'własnych', 'budżetów', '.', 'Jednak', 'i', 'one', 'nie', 'mają', ',', 'więc', 'jest', 'jak', 'jest', 'W', 'szkołach', 'specjalnych', 'na', '200', 'podopiecznych', 'przynajmniej', 'jedna', 'pielęgniarka', 'powinna', 'być', 'zatrudniona', 'na', 'stałe', '.', 'W', 'Zgierzu', 'jest', 'jedna', ',', 'ale', 'dochodząca', 'raz', 'w', 'tygodniu', '.', 'W', 'szkole', 'liczą', ',', 'że', 'może', 'starostwo', 'dołoży', 'parę', 'groszy', 'i', 'w', 'ten', 'sposób', 'uda', 'się', 'zatrudnić', 'pielęgniarkę', 'na', 'stałe', 'Klucz', 'od', 'gabinetu', 'lekarskiego', 'wisi', 'w', 'każdej', 'ze', 'szkół', 'zawsze', 'w', 'pokoju', 'nauczycielskim', '.', 'Dostęp', 'do', 'podstawowych', 'leków', 'nie', 'wymaga', 'specjalnej', 'zgody', ',', 'tym', 'bardziej', 'że', 'to', 'właśnie', 'na', 'szkoły', 'spada', 'obowiązek', 'zaopatrywania', 'w', 'leki', 'własnych', 'gabinetów', '.', 'W', 'razie', 'potrzeby', 'nauczyciele', 'wuefu', 'sami', 'zakładają', 'opatrunki', 'na', 'skaleczone', 'miejsca', 'albo', 'podają', 'krople', 'żołądkowe', 'lub', 'leki', 'przeciwbólowe', '.', 'W', 'ciężkich', 'przypadkach', 'wzywa', 'się', 'pogotowie', '.', 'Jednak', 'nauczyciel', ',', 'nawet', 'po', 'przeszkoleniu', 'w', 'ramach', 'pierwszej', 'pomocy', ',', 'nie', 'zaszczepi', 'dziecka', '.', 'Musi', 'to', 'zrobić', 'pielęgniarka', 'i', 'to', 'w', 'obecności', 'lekarza']\n",
      "/home/ksaputa/mspace/dataset/dataset/PCC-1.5-TEI-split/test/356\n",
      "0 249 257 ['możliwość', 'specjalizacji', 'w', 'tym', ',', 'do', 'czego', 'zmierzasz'] ['3', '.', 'Sekret', 'trzeci', ':', 'Sukces', 'jest', 'wiarą', '4', '.', 'Sekret', 'czwarty', ':', 'Trzeba', 'robić', 'więcej', '5', '.', 'Sekret', 'piąty', ':', 'Trzeba', 'żyć', 'optymizmem', '6', '.', 'Sekret', 'szósty', ':', 'Podstawą', 'jest', 'kontrola', '7', '.', 'Sekret', 'siódmy', ':', 'Potęgą', 'jest', 'nauka', '8', '.', 'Sekret', 'ósmy', ':', 'Trzeba', 'korzystać', 'z', 'nawyku', 'Sekret', 'pierwszy', ':', 'Trzeba', 'mieć', 'cel', 'Jeśli', 'chcesz', 'siać', 'na', 'dni', ',', 'siej', 'kwiaty', '.', 'Jeśli', 'chcesz', 'siać', 'na', 'lata', ',', 'sadź', 'drzewa', '.', 'Jeśli', 'chcesz', 'siać', 'na', 'wieczność', ',', 'zasiewaj', 'idee', '!', '(', 'Klucze', 'do', 'Sukcesu', ',', '1998', ',', 's', '.', '12', ')', 'Wszystko', 'zaczyna', 'się', 'od', 'idei', ',', 'myśli', 'czy', 'celu', '.', 'W', 'filozofii', 'sukcesu', 'stworzonej', 'przez', 'Napoleona', 'Hilla', 'pojęcie', '\"', 'precyzji', 'celu', '\"', 'zajmuje', 'czołowe', 'miejsce', '.', 'Precyzja', 'celu', 'to', 'spisana', 'i', 'odpowiednio', 'sformułowana', 'myśl', 'czy', 'idea', ',', 'to', '\"', 'punkt', 'wyjściowy', 'każdego', 'dokonania', '\"', '(', 's', '.', '11', ')', ',', 'to', 'początek', 'każdego', 'działania', ',', 'to', 'zdolność', 'precyzyjnego', 'myślenia', 'wąskiej', 'grupy', 'wizjonerów', ',', 'to', 'pierwszy', 'i', 'najważniejszy', 'krok', 'do', 'sukcesu', '.', 'Zgodnie', 'z', 'teorią', '2', '/', '98', 'jedynie', '2', '%', 'ludzi', 'obdarzonych', 'jest', 'umiejętnością', 'dokładnego', 'i', 'precyzyjnego', 'określania', 'swoich', 'celów', 'życiowych', '.', 'Oznacza', 'to', ',', 'iż', 'jedynie', '2', '%', 'wie', 'tak', 'naprawdę', ',', 'dokąd', 'zmierza', '.', 'Aby', 'móc', 'zacząć', 'działać', 'i', 'odnosić', 'sukcesy', ',', 'trzeba', 'mieć', 'cel', '-', 'to', 'podstawowa', 'koncepcja', 'sukcesu', '-', 'i', 'pragnąć', 'go', 'osiągnąć', '(', 'a', 'nie', 'tylko', 'chcieć', ')', '-', 'to', 'podstawowy', 'sposób', 'osiągania', 'sukcesu', '.', 'Co', 'da', 'Ci', 'precyzja', 'celu', '?', '•', 'dokładną', 'informację', 'o', 'tym', ',', 'co', 'chcesz', 'osiągnąć', '•', 'możliwość', 'specjalizacji', 'w', 'tym', ',', 'do', 'czego', 'zmierzasz']\n",
      "/home/ksaputa/mspace/dataset/dataset/PCC-1.5-TEI-split/test/356\n",
      "0 250 257 ['specjalizacji', 'w', 'tym', ',', 'do', 'czego', 'zmierzasz'] ['3', '.', 'Sekret', 'trzeci', ':', 'Sukces', 'jest', 'wiarą', '4', '.', 'Sekret', 'czwarty', ':', 'Trzeba', 'robić', 'więcej', '5', '.', 'Sekret', 'piąty', ':', 'Trzeba', 'żyć', 'optymizmem', '6', '.', 'Sekret', 'szósty', ':', 'Podstawą', 'jest', 'kontrola', '7', '.', 'Sekret', 'siódmy', ':', 'Potęgą', 'jest', 'nauka', '8', '.', 'Sekret', 'ósmy', ':', 'Trzeba', 'korzystać', 'z', 'nawyku', 'Sekret', 'pierwszy', ':', 'Trzeba', 'mieć', 'cel', 'Jeśli', 'chcesz', 'siać', 'na', 'dni', ',', 'siej', 'kwiaty', '.', 'Jeśli', 'chcesz', 'siać', 'na', 'lata', ',', 'sadź', 'drzewa', '.', 'Jeśli', 'chcesz', 'siać', 'na', 'wieczność', ',', 'zasiewaj', 'idee', '!', '(', 'Klucze', 'do', 'Sukcesu', ',', '1998', ',', 's', '.', '12', ')', 'Wszystko', 'zaczyna', 'się', 'od', 'idei', ',', 'myśli', 'czy', 'celu', '.', 'W', 'filozofii', 'sukcesu', 'stworzonej', 'przez', 'Napoleona', 'Hilla', 'pojęcie', '\"', 'precyzji', 'celu', '\"', 'zajmuje', 'czołowe', 'miejsce', '.', 'Precyzja', 'celu', 'to', 'spisana', 'i', 'odpowiednio', 'sformułowana', 'myśl', 'czy', 'idea', ',', 'to', '\"', 'punkt', 'wyjściowy', 'każdego', 'dokonania', '\"', '(', 's', '.', '11', ')', ',', 'to', 'początek', 'każdego', 'działania', ',', 'to', 'zdolność', 'precyzyjnego', 'myślenia', 'wąskiej', 'grupy', 'wizjonerów', ',', 'to', 'pierwszy', 'i', 'najważniejszy', 'krok', 'do', 'sukcesu', '.', 'Zgodnie', 'z', 'teorią', '2', '/', '98', 'jedynie', '2', '%', 'ludzi', 'obdarzonych', 'jest', 'umiejętnością', 'dokładnego', 'i', 'precyzyjnego', 'określania', 'swoich', 'celów', 'życiowych', '.', 'Oznacza', 'to', ',', 'iż', 'jedynie', '2', '%', 'wie', 'tak', 'naprawdę', ',', 'dokąd', 'zmierza', '.', 'Aby', 'móc', 'zacząć', 'działać', 'i', 'odnosić', 'sukcesy', ',', 'trzeba', 'mieć', 'cel', '-', 'to', 'podstawowa', 'koncepcja', 'sukcesu', '-', 'i', 'pragnąć', 'go', 'osiągnąć', '(', 'a', 'nie', 'tylko', 'chcieć', ')', '-', 'to', 'podstawowy', 'sposób', 'osiągania', 'sukcesu', '.', 'Co', 'da', 'Ci', 'precyzja', 'celu', '?', '•', 'dokładną', 'informację', 'o', 'tym', ',', 'co', 'chcesz', 'osiągnąć', '•', 'możliwość', 'specjalizacji', 'w', 'tym', ',', 'do', 'czego', 'zmierzasz']\n",
      "/home/ksaputa/mspace/dataset/dataset/PCC-1.5-TEI-split/test/2528\n",
      "0 251 253 ['ubezpieczenia', 'zdrowotnego'] ['PODKARPACKIE', '.', 'Nie', 'wiadomo', ',', 'kto', 'zapłaci', 'za', 'wymianę', 'amalgamatów', 'z', 'naszych', 'zębów', 'Krzysztof', 'Kaniuczak', ':', '-', 'Pacjenci', 'nie', 'chcą', 'czarnych', 'plomb', ',', 'bo', 'szpecą', 'uśmiech', 'Minister', 'zdrowia', 'chce', ',', 'aby', 'śmy', 'w', 'ciągu', '4', '-', '5', 'lat', 'pozbyli', 'się', 'z', 'zębów', 'amalgamatowych', 'plomb', '.', 'Zawierają', 'one', 'rtęć', ',', 'nieobojętną', 'dla', 'zdrowia', '.', 'Tymczasem', 'wielu', 'mieszkańców', 'ma', 'w', 'ustach', 'właśnie', 'czarne', 'plomby', ',', 'bo', 'takie', 'refunduje', 'Narodowy', 'Fundusz', 'Zdrowia', '.', '-', 'Amalgamat', 'to', 'mieszanina', 'srebra', ',', 'cyny', ',', 'miedzi', ',', 'cynku', 'i', 'niewielkiej', 'ilości', 'rtęci', '-', 'tłumaczy', 'Marcin', 'Grzesiuk', ',', 'stomatolog', 'z', 'centrum', 'medycznego', '\"', 'Promedica', '\"', 'w', 'Rzeszowie', '.', 'Przeciwnicy', 'i', 'zwolennicy', 'Pod', 'koniec', 'marca', 'ministerstwo', 'zdrowia', 'przyjęło', 'projekt', 'w', 'sprawie', 'wyrobów', 'medycznych', 'zawierających', 'rtęć', '.', 'Wraz', 'z', 'plombami', 'amalgamatowymi', 'mają', 'zniknąć', 'z', 'przychodni', ',', 'szpitali', 'i', 'aptek', 'także', 'm', '.', 'in', '.', 'termometry', 'rtęciowe', '.', 'Kto', 'zapłaci', 'za', 'wymianę', 'plomb', '?', 'Na', 'razie', 'nie', 'wiadomo', '.', 'Co', 'do', 'szkodliwości', 'tych', 'czarnych', 'plomb', 'lekarze', 'mają', 'różne', 'opinie', '.', 'Jedni', 'uważają', ',', 'że', 'to', 'bezpieczne', 'wypełnienia', ',', 'bo', 'rtęć', 'stanowi', 'śladowe', 'ilości', '.', 'Inni', 'przekonują', ',', 'że', 'rtęć', 'to', 'trucizna', ',', 'szkodzi', 'zdrowiu', ',', 'zwłaszcza', 'alergikom', ',', 'osobom', 'chorym', 'na', 'nerki', 'i', 'kobietom', 'w', 'ciąży', '.', 'Nawołują', ',', 'aby', 'z', 'amalgamatów', 'zrezygnować', '.', '-', 'Rtęć', 'zawsze', 'szkodzi', '-', 'uważa', 'Halina', 'Compała', '-', 'Kuśnierz', ',', 'stomatolog', '.', '-', 'To', 'dobry', 'pomysł', ',', 'że', 'amalgamaty', 'mają', 'zniknąć', '.', 'Pacjenci', 'ich', 'nie', 'chcą', ',', 'bo', 'są', 'brzydkie', '.', 'Jest', 'przecież', 'tyle', 'nowoczesnych', 'estetycznych', 'rodzajów', 'plomb', '.', 'Maksymalnie', 'siedem', 'Co', 'się', 'nam', 'należy', 'w', 'ramach', 'ubezpieczenia', 'zdrowotnego']\n",
      "/home/ksaputa/mspace/dataset/dataset/PCC-1.5-TEI-split/test/200108300032\n",
      "0 2675 2677 ['Ewa', 'Kluczkowska'] ['Afera', 'w', 'PZU', 'SA', '-', 'Zakład', 'płacił', 'za', 'nieruchomości', 'nawet', 'kilkanaście', 'razy', 'za', 'dużo', '-', 'Miliony', 'wypływały', 'z', 'firmy', 'Ziemię', 'drogo', 'kupię', 'Nabycie', 'tej', 'działki', 'w', 'Bydgoszczy', 'w', 'czerwcu', '2000', 'roku', ',', 'to', 'jeden', 'z', 'najbardziej', 'podejrzanych', 'zakupów', 'nieruchomości', ',', 'dokonanych', 'przez', 'PZU', '.', 'Chociaż', 'jej', 'wartość', 'rynkowa', 'tylko', 'trochę', 'przekraczała', 'półtora', 'miliona', 'złotych', ',', 'PZU', 'zapłacił', 'za', 'nią', 'dużo', 'więcej', 'FOT', '.', 'BERTOLD', 'KITTEL', 'BERTOLD', 'KITTEL', 'Z', 'powodu', 'niekorzystnych', 'umów', 'akceptowanych', 'przez', 'były', 'zarząd', 'PZU', ',', 'z', 'firmy', 'wyprowadzono', '-', 'w', 'latach', '1999', '-', '2000', '-', 'miliony', 'złotych', '.', 'Wyłudzenie', 'pieniędzy', 'z', 'PZU', 'było', 'ogromnym', 'przedsięwzięciem', '.', 'Przeprowadziła', 'je', 'dobrze', 'zorganizowana', 'grupa', ',', 'która', 'dla', 'zatarcia', 'śladów', 'przerzucała', 'pieniądze', 'przez', 'konta', 'nieistniejących', 'firm', ',', 'podstawionych', 'ludzi', ',', 'za', 'pomocą', 'fałszywych', 'dokumentów', '.', 'Tylko', 'na', 'jednej', 'transakcji', 'zakupu', 'ziemi', 'w', 'Bydgoszczy', 'PZU', 'stracił', 'dwa', 'miliony', 'złotych', '.', 'Niekorzystny', 'zakup', 'był', 'jedną', 'z', 'ostatnich', 'decyzji', 'zarządu', 'PZU', ',', 'związanego', 'z', 'zawieszonym', 'w', 'tamtym', 'czasie', 'prezesem', 'Władysławem', 'Jamrożym', '.', 'Przez', 'kilka', 'ostatnich', 'lat', 'PZU', 'SA', 'skupował', 'działki', 'w', 'większych', 'polskich', 'miastach', '.', 'Mają', 'na', 'nich', 'stanąć', 'centra', 'likwidacji', 'szkód', 'i', 'oceny', 'ryzyka', '.', 'Transakcji', ',', 'w', 'imieniu', 'PZU', 'SA', ',', 'dokonywała', 'spółka', 'zależna', '-', 'PZU', 'Development', '.', 'Jej', 'pracownicy', 'otrzymywali', 'bardzo', 'szerokie', 'pełnomocnictwa', '.', 'Dziś', 'tymi', 'zakupami', 'interesuje', 'się', 'prokuratura', ',', 'okazało', 'się', 'bowiem', ',', 'że', 'PZU', 'słono', 'przepłacał', 'za', 'nieruchomości', '-', 'w', 'Lublinie', ',', 'Nowym', 'Sączu', 'czy', 'Kielcach', 'firma', 'przepłaciła', 'od', 'dwóch', 'do', '13', ',', '5', 'raza', '.', 'Tajemniczy', 'interes', 'Jedną', 'z', 'takich', 'podejrzanych', 'transakcji', 'był', 'zakup', 'dużej', 'działki', 'w', 'Bydgoszczy', ',', 'do', 'którego', 'doszło', 'w', 'czerwcu', '2000', 'roku', '.', 'Chociaż', 'jej', 'wartość', 'rynkowa', 'tylko', 'trochę', 'przekraczała', 'półtora', 'miliona', 'złotych', ',', 'PZU', 'zapłacił', 'za', 'nią', 'dużo', 'więcej', '.', 'Motel', 'w', 'Ogonkach', '.', 'To', 'tu', ',', 'według', 'Wojciecha', 'Łukaszka', 'przekazano', 'pieniądze', '.', 'Choć', 'motel', 'leży', 'przy', 'ruchliwej', 'trasie', ',', 'tuż', 'nad', 'jeziorem', ',', 'gdzie', 'kręci', 'się', 'mnóstwo', 'ludzi', ',', 'nikt', 'nie', 'mógł', 'podejrzewać', ',', 'że', 'w', 'czarnym', 'neseserze', 'spoczywają', 'dwa', 'miliony', 'wyłudzone', 'z', 'PZU', 'FOT', '.', 'BERTOLD', 'KITTEL', '-', 'Cena', 'działki', 'wynosiła', '3', ',', '7', 'miliona', 'złotych', '-', 'poinformował', '\"', 'Rz', '\"', 'Adam', 'Taukert', ',', 'rzecznik', 'prasowy', 'PZU', 'SA', '.', 'Nie', 'chciał', 'wyjaśnić', ',', 'skąd', 'się', 'wzięła', 'różnica', '.', '-', 'Tę', 'sprawę', ',', 'z', 'doniesienia', 'Ministerstwa', 'Skarbu', ',', 'bada', 'prokuratura', '.', 'Dlatego', 'nie', 'będę', 'się', 'wypowiadał', '.', 'W', 'PZU', 'nie', 'pracuje', 'już', 'żadna', 'z', 'osób', 'odpowiedzialnych', 'za', 'zakup', 'działki', 'w', 'Bydgoszczy', '.', 'Działka', 'wielkości', 'ok', '.', 'sześciu', 'tysięcy', 'metrów', 'kwadratowych', ',', 'na', 'której', 'ma', 'stanąć', 'centrum', 'likwidacji', 'szkód', 'w', 'Bydgoszczy', ',', 'leży', 'prawie', 'w', 'centrum', 'miasta', '.', 'Jednak', ',', 'chociaż', 'miejsce', 'jest', 'atrakcyjne', ',', 'do', 'działki', 'jest', 'nie', 'najlepszy', 'dojazd', '-', 'wąska', 'uliczka', 'między', 'myjnią', 'samochodową', 'i', 'ogrodzonym', ',', 'zapuszczonym', 'ogrodem', '.', 'Właścicielem', 'działki', 'był', 'znany', 'w', 'Bydgoszczy', 'handlarz', 'złotem', 'Włodzimierz', 'Bogucki', '.', 'Zastajemy', 'go', 'w', 'jego', 'sklepie', 'z', 'biżuterią', '.', 'Jest', 'niewysokim', ',', 'szpakowatym', 'mężczyzną', '.', 'Twierdzi', ',', 'że', 'zawarł', 'transakcję', 'zgodnie', 'z', 'prawem', ',', 'więc', 'nie', 'boi', 'się', 'kłopotów', '.', 'Doradzali', 'mu', 'najlepsi', 'prawnicy', '.', 'Odprowadził', 'podatek', ',', 'a', 'pieniądze', 'zainwestował', 'już', 'w', 'nowy', 'interes', '.', 'Nie', 'chce', 'mówić', 'o', 'szczegółach', ':', 'cenie', ',', 'pośrednikach', '.', 'Nie', 'wiedział', 'em', ',', 'że', 'chodzi', 'o', 'PZU', 'Z', 'naszych', 'ustaleń', 'wynika', ',', 'że', 'w', 'sprzedaży', 'bydgoskiej', 'działki', 'wzięło', 'udział', 'kilkanaście', 'osób', ',', 'a', 'sama', 'transakcja', 'była', 'poważnym', 'przestępczym', 'przedsięwzięciem', ',', 'w', 'wyniku', 'którego', 'z', 'PZU', 'SA', 'wyprowadzono', 'dwa', 'miliony', 'złotych', '.', 'Agenci', 'nieruchomości', 'z', 'Bydgoszczy', 'z', 'zaskoczeniem', 'przyjęli', 'wiadomość', 'o', 'transakcji', '.', 'Osiem', 'największych', 'firm', 'pośrednictwa', 'w', 'Bydgoszczy', 'jest', 'bowiem', 'połączonych', 'siecią', 'komputerową', 'i', 'wymienia', 'się', 'informacjami', '.', '-', 'Wiedzieli', 'by', 'śmy', ',', 'gdyby', 'któreś', 'z', 'bydgoskich', 'biur', 'sprzedało', 'działkę', '-', 'mówi', 'jeden', 'z', 'naszych', 'rozmówców', '.', '-', 'Uznali', 'śmy', ',', 'że', 'sprzedawca', 'znalazł', 'kupca', 'prywatnie', '.', 'Pośrednikiem', 'w', 'sprzedaży', 'ziemi', 'była', 'spółka', 'z', 'Włocławka', ',', 'której', 'prezesem', 'jest', 'Grażyna', 'Bończewska', '.', '\"', 'Rz', '\"', 'ustaliła', ',', 'że', 'jej', 'firma', 'powstała', 'kilka', 'tygodni', 'przed', 'transakcją', '.', 'Dziwne', 'jest', 'też', 'to', ',', 'iż', 'sprzedaży', 'ziemi', 'w', 'Bydgoszczy', 'dokonała', 'firma', 'z', 'odległego', 'o', '100', 'kilometrów', 'Włocławka', '.', 'Udało', 'nam', 'się', 'dotrzeć', 'do', 'Wojciecha', 'Łukaszka', '-', 'jednego', 'z', 'uczestników', 'tej', 'operacji', ',', 'który', 'w', 'szczegółach', 'wyjaśnił', 'nam', 'kulisy', 'transakcji', '.', '-', 'Jestem', 'załamany', ',', 'pół', 'godziny', 'temu', 'z', 'mojego', 'domu', 'wyjechali', 'panowie', 'z', 'Centralnego', 'Biura', 'Śledczego', '-', 'mówi', '.', '-', 'Czterech', 'facetów', 'z', 'bronią', 'u', 'pasa', ',', 'dzieci', 'się', 'przestraszyły', '.', 'Zabrali', 'z', 'domu', 'dokumenty', ',', 'notatniki', '.', 'Przysięgam', ',', 'że', 'dopiero', 'teraz', 'dowiedział', 'em', 'się', ',', 'iż', 'chodzi', 'o', 'aferę', 'w', 'PZU', '.', 'Oglądał', 'em', 'w', 'telewizji', ',', 'jak', 'zatrzymywali', 'Wieczerzaka', 'i', 'ani', 'przez', 'myśl', 'mi', 'nie', 'przeszło', ',', 'że', 'jestem', 'zamieszany', 'w', 'podobną', 'aferę', '.', 'A', 'teraz', 'grozi', 'mi', 'zarzut', 'o', 'pomoc', 'w', 'praniu', 'pieniędzy', '.', 'Łukaszek', 'to', 'z', 'wyglądu', 'czterdziestokilkuletni', 'mężczyzna', '.', 'Mieszka', 'w', 'zadbanym', 'domu', 'położonym', 'pod', 'lasem', 'w', 'miejscowości', 'Pozezdrze', '(', 'powiat', 'giżycki', ')', '.', 'Mówi', 'z', 'lekkim', 'śląskim', 'akcentem', ',', 'ale', 'jak', 'sam', 'twierdzi', ',', 'choć', 'pochodzi', 'ze', 'Śląska', ',', 'długo', 'mieszkał', 'w', 'Przemyślu', 'i', 'na', 'Ukrainie', '.', 'Od', 'lat', 'robi', 'interesy', ',', 'dlatego', 'ma', 'rozległe', 'kontakty', 'w', 'całym', 'kraju', '.', '-', 'W', 'marcu', 'zeszłego', 'roku', 'zadzwoniła', 'do', 'mnie', 'z', 'Włocławka', 'Grażyna', 'Bończewska', '.', 'Znam', 'ją', ',', 'prowadzi', 'pośrednictwo', 'nieruchomości', ',', 'w', 'przeszłości', 'razem', 'robili', 'śmy', 'interesy', '-', 'mówi', 'Łukaszek', '.', '-', 'Poprosiła', ',', 'żeby', 'm', 'pomógł', 'jej', 'znaleźć', 'jakieś', 'inne', 'biuro', 'pośrednictwa', 'w', 'handlu', 'nieruchomościami', '.', 'Łukaszek', 'skontaktował', 'się', 'ze', 'swoim', 'dawnym', 'znajomym', 'Adamem', 'Pasikowskim', 'i', 'poprosił', 'o', 'znalezienie', 'jakiegoś', 'biura', '.', '-', 'Umówił', 'em', 'go', 'z', 'Bończewską', '.', 'Przyjechali', ',', 'usiedli', ',', 'podpisali', 'jakieś', 'umowy', '-', 'opowiada', '.', 'Zapewnia', ',', 'że', 'nie', 'wiedział', ',', 'o', 'jakie', 'umowy', 'chodziło', '.', 'Według', 'Łukaszka', ',', 'Bończewskiej', 'towarzyszył', 'niejaki', 'Piotr', 'Borkowski', '-', 'tajemniczy', 'mężczyzna', 'z', 'Warszawy', ',', 'zdaniem', 'Łukaszka', 'szczupły', ',', 'ok', '.', 'czterdziestoletni', '.', '-', 'Poznał', 'em', 'go', 'kilka', 'lat', 'temu', ',', 'pracował', 'wtedy', 'w', 'biurze', 'prowadzącym', 'procesy', 'upadłościowe', '.', 'Miał', 'biuro', 'w', 'biurowcu', 'PKS', 'przy', 'Dworcu', 'Zachodnim', 'w', 'Warszawie', '-', 'mówi', '.', 'Do', 'niedawna', 'Borkowskiego', 'można', 'było', 'spotkać', 'w', 'biurze', 'eleganckiej', 'spółdzielni', 'mieszkaniowej', 'w', 'centrum', 'stolicy', '.', '-', 'On', 'tu', 'przychodził', 'towarzysko', ',', 'nigdy', 'nie', 'pełnił', 'żadnej', 'funkcji', '-', 'dowiedzieli', 'śmy', 'się', 'w', 'biurze', '.', 'Mazurski', 'trop', 'Zaproszony', 'przez', 'Łukaszka', 'Pasikowski', 'przywiózł', 'fałszywe', ',', 'jak', 'się', 'później', 'okazało', ',', 'umowy', ',', 'zgodnie', 'z', 'którymi', 'nieistniejąca', 'firma', 'niejakiego', 'Władysława', 'Haszczakiewicza', 'z', 'Drohojowa', 'pod', 'Przemyślem', 'zleca', 'Bończewskiej', 'znalezienie', 'działki', 'pod', 'planowane', 'centrum', 'likwidacji', 'szkód', 'w', 'Bydgoszczy', '.', 'W', 'tym', 'samym', 'czasie', ',', 'wiosną', '2000', 'roku', ',', 'Bończewska', 'dogadała', 'się', 'z', 'Boguckim', '-', 'handlarzem', 'złotem', 'z', 'Bydgoszczy', ',', 'tym', ',', 'który', 'od', 'dłuższego', 'czasu', 'bezskutecznie', 'szukał', 'kupca', 'na', 'działkę', '.', 'Ustalili', ',', 'że', 'w', 'zamian', 'za', 'ustaloną', 'prowizję', 'Bończewska', 'znajdzie', 'kupca', 'na', 'jego', 'działkę', '.', 'Tym', 'samym', 'właścicielka', 'biura', 'istniejącego', 'od', 'kilku', 'tygodni', 'stała', 'się', 'zarazem', 'przedstawicielem', 'kupującego', 'i', 'sprzedającego', '.', 'Od', 'obu', 'dostała', 'też', 'zwyczajową', 'prowizję', '.', '16', 'czerwca', '2000', 'r', '.', 'zarząd', 'PZU', 'SA', 'w', 'Warszawie', 'pod', 'przewodnictwem', 'Jacka', 'Berdyna', 'akceptuje', 'warunki', 'transakcji', '.', 'Berdyn', ',', 'uważany', 'za', 'lojalnego', 'i', 'oddanego', 'współpracownika', 'Władysława', 'Jamrożego', ',', 'jest', 'p', '.', 'o', '.', 'prezesem', '-', 'w', 'miejsce', 'zawieszonego', 'pod', 'koniec', 'stycznia', '2000', 'roku', 'Jamrożego', '.', 'Kilkanaście', 'dni', 'po', 'zaakceptowaniu', 'bydgoskiej', 'transakcji', ',', '29', 'czerwca', ',', 'rada', 'nadzorcza', 'odwołała', 'zarząd', '-', 'z', 'innych', 'powodów', '.', 'Jamroży', 'twierdzi', 'dziś', ',', 'że', 'nie', 'słyszał', 'o', 'bydgoskiej', 'transakcji', '.', '-', 'Był', 'em', 'wtedy', 'zawieszony', 'i', 'nie', 'podejmował', 'em', 'żadnych', 'decyzji', '-', 'mówi', '.', 'Z', 'Jackiem', 'Berdynem', 'nie', 'sposób', 'się', 'skontaktować', ',', 'bo', 'nikt', 'w', 'PZU', 'nie', 'wie', ',', 'gdzie', 'teraz', 'pracuje', '.', '28', 'czerwca', 'zeszłego', 'roku', '-', 'czyli', 'dzień', 'przed', 'odwołaniem', 'zarządu', '-', 'odbyło', 'się', 'spotkanie', 'w', 'biurze', 'notarialnym', '.', 'Zjawił', 'się', 'Bogucki', '(', 'handlarz', 'złotem', ',', 'właściciel', 'działki', ')', ',', 'Bończewska', '(', 'pośredniczka', 'w', 'sprzedaży', 'nieruchomości', ')', 'i', 'Piotr', 'Kudlak', '-', 'ekspert', 'ds', '.', 'marketingu', 'w', 'PZU', 'Development', ',', 'wyposażony', 'w', 'pełnomocnictwo', 'podpisane', 'przez', 'wiceprezesa', 'PZU', 'SA', 'Jacka', 'Berdyna', 'i', 'członka', 'zarządu', 'PZU', 'Jacka', 'Mejznera', '.', 'Kudlak', 'nie', 'pracuje', 'już', 'w', 'PZU', 'Development', '.', 'Nie', 'zastali', 'śmy', 'go', 'także', 'w', 'domu', 'na', 'warszawskim', 'Targówku', ',', 'w', 'którym', 'jest', 'zameldowany', '.', 'Z', 'aktu', 'notarialnego', 'wynika', ',', 'że', 'PZU', 'zapłacił', 'za', 'działkę', '3', ',', '7', 'miliona', 'złotych', '.', 'Z', 'dokumentów', 'transakcji', 'wynika', 'też', ',', 'że', 'na', 'konto', 'sprzedających', 'trafiło', 'z', 'tego', 'zaledwie', '1', ',', '6', 'miliona', 'złotych', '.', '2', ',', '025', 'miliona', 'zł', 'przelano', 'na', 'konto', 'firmy', 'Grażyny', 'Bończewskiej', ',', 'a', '75', 'tysięcy', 'zostało', 'u', 'notariusza', 'jako', 'depozyt', '.', 'Miał', 'on', 'być', 'wypłacony', 'Bończewskiej', 'po', 'eksmitowaniu', 'ostatnich', 'lokatorów', 'zamieszkujących', 'ruderę', 'na', 'działce', '.', 'Jak', 'wyprać', 'dwa', 'miliony', 'Tego', 'samego', 'dnia', ',', 'czyli', '28', 'czerwca', '2000', ',', 'Bończewska', 'przelewa', 'dwa', 'miliony', 'złotych', 'z', 'konta', 'swojej', 'spółki', 'do', 'oddziału', 'PBK', 'w', 'Giżycku', 'na', 'konto', 'firmy', 'żony', 'Łukaszka', '.', 'Uzasadnieniem', 'przelewu', 'są', 'rzekome', '\"', 'koszty', 'związane', 'z', 'pozyskaniem', 'tej', 'nieruchomości', '\"', ',', 'poniesione', 'na', 'rzecz', 'firmy', 'Władysława', 'Haszczakiewicza', 'z', 'Drohojowa', '.', 'Z', 'faktury', 'nie', 'wynika', ',', 'jakie', 'to', 'koszty', ',', 'mimo', 'że', 'przekroczyły', 'one', 'wartość', 'ziemi', '.', 'I', 'dlaczego', 'pieniądze', 'poszły', 'do', 'Giżycka', 'na', 'konto', 'firmy', 'żony', 'Łukaszka', ',', 'skoro', 'firma', 'Haszczakiewicza', 'jest', 'spod', 'Przemyśla', ',', 'czyli', 'drugiego', 'końca', 'Polski', '?', 'Kulisy', 'operacji', 'finansowych', ',', 'do', 'których', 'doszło', 'po', 'transakcji', ',', 'wyjaśnia', 'Wojciech', 'Łukaszek', '.', '-', 'Kilka', 'tygodni', 'po', 'spotkaniu', 'w', 'moim', 'domu', 'Bończewska', 'znowu', 'poprosiła', 'mnie', 'o', 'pomoc', '.', 'Powiedziała', ',', 'że', 'ma', 'przelać', 'na', 'konto', 'firmy', 'Haszczakiewicza', 'dwa', 'miliony', 'złotych', ',', 'ale', 'nie', 'ma', 'do', 'niego', 'zaufania', 'i', 'woli', ',', 'żeby', 'pieniądze', 'poleżały', 'na', 'moim', 'koncie', '-', 'mówi', 'Łukaszek', '.', '-', 'Oj', ',', 'ale', 'był', 'em', 'głupi', ',', 'że', 'się', 'zgodził', 'em', '!', 'Łukaszek', 'wykorzystał', 'do', 'tej', 'operacji', 'konto', 'firmy', 'swojej', 'żony', '.', 'Firma', 'miała', 'siedzibę', 'w', 'Rynie', ',', 'a', 'konto', 'w', 'banku', 'w', 'niedalekim', 'Giżycku', '.', '-', 'Żona', 'wtedy', 'wyjechała', 'za', 'granicę', ',', 'a', 'ponieważ', 'firmę', 'likwidowali', 'śmy', 'i', 'były', 'jakieś', 'rozliczenia', ',', 'więc', 'w', 'zaufaniu', 'zostawiła', 'mi', 'podpisane', 'czeki', '-', 'mówi', '.', '-', 'Kiedy', 'dwa', 'miliony', 'wpłynęły', 'na', 'konto', 'po', 'prostu', 'wypełnił', 'em', 'czek', 'i', 'podjął', 'em', 'pieniądze', '.', 'Dwa', 'miliony', 'wpłynęły', 'na', 'konto', '28', 'lub', '29', 'czerwca', 'zeszłego', 'roku', '.', '-', 'Nie', 'od', 'razu', 'je', 'wypłacił', 'em', ',', 'bank', 'potrzebował', 'kilku', 'dni', 'na', 'zebranie', 'takiej', 'kwoty', '.', 'Na', 'początku', 'lipca', 'pojechał', 'em', 'do', 'banku', ',', 'zapakował', 'em', 'pieniądze', 'do', 'skórzanego', 'nesesera', 'i', 'pojechał', 'em', 'z', 'Giżycka', 'w', 'kierunku', 'Węgorzewa', '-', 'opowiada', '.', 'Po', 'dwa', 'miliony', 'przyjechała', 'pośredniczka', 'z', 'Włocławka', 'Grażyna', 'Bończewska', 'w', 'towarzystwie', 'Piotra', 'Borkowskiego', '.', '-', 'Przyjechali', 'ciemnym', 'passatem', 'Borkowskiego', '.', 'Czekali', 'na', 'mnie', 'w', 'motelu', 'w', 'Ogonkach', ',', 'to', 'jest', 'kilka', 'kilometrów', 'od', 'mojego', 'domu', 'w', 'kierunku', 'Węgorzewa', '.', 'Przekazał', 'em', 'im', 'pieniądze', 'w', 'tym', 'motelu', '-', 'mówi', '.', 'Borkowski', 'to', 'najbardziej', 'tajemnicza', 'postać', 'w', 'całej', 'operacji', '.', '-', 'Nie', 'mam', 'wątpliwości', ',', 'że', 'za', 'całą', 'tą', 'operacją', 'stał', 'Borkowski', '.', 'Pojawił', 'się', 'już', 'podczas', 'spotkania', 'w', 'moim', 'domu', '.', 'Potem', 'to', 'jemu', 'wręczył', 'em', 'neseser', 'z', 'dwoma', 'milionami', '-', 'twierdzi', 'Łukaszek', '.', '-', 'Znał', 'em', 'go', 'wcześniej', 'niż', 'Bończewską', ',', 'dzięki', 'niemu', 'ją', 'poznał', 'em', '.', 'Słabe', 'punkty', 'planu', 'Uczestnicy', 'konspiracyjnego', 'spotkania', 'w', 'motelu', 'w', 'Ogonkach', 'mogli', 'czuć', 'się', 'bezkarnie', '.', 'Pieniądze', 'zatoczyły', 'duże', 'koło', ',', 'na', 'wszystko', 'były', 'podkładki', ',', 'nikt', 'nie', 'czuł', 'się', 'oszukany', '.', 'Niczyich', 'podejrzeń', 'nie', 'wzbudziło', 'też', 'spotkanie', 'w', 'motelu', '-', 'leży', 'nad', 'samym', 'jeziorem', ',', 'przy', 'ruchliwej', 'turystycznej', 'trasie', ',', 'kręci', 'się', 'mnóstwo', 'ludzi', '.', 'Nikt', 'nie', 'mógł', 'podejrzewać', ',', 'że', 'w', 'czarnym', 'neseserze', 'spoczywają', 'dwa', 'miliony', 'wyłudzone', 'z', 'PZU', '.', 'A', 'jednak', 'nie', 'powinni', 'spać', 'spokojnie', ',', 'okazało', 'się', 'bowiem', ',', 'że', 'popełnili', 'błąd', '.', 'W', 'czasie', 'kontroli', 'Urzędu', 'Kontroli', 'Skarbowej', 'okazało', 'się', ',', 'że', 'umowa', 'i', 'faktura', 'firmy', 'Haszczakiewicza', 'z', 'Drohojowa', 'są', 'fałszywe', '.', 'Firma', 'od', 'pewnego', 'czasu', 'jest', 'wyrejestrowana', ',', 'a', 'pod', 'jej', 'adresem', 'znajduje', 'się', 'zakład', 'usług', 'budowlanych', ',', 'którego', 'właściciel', 'nie', 'ma', 'nic', 'wspólnego', 'z', 'Haszczakiewiczem', '.', '-', 'Jakiś', 'miesiąc', 'temu', 'zadzwoniła', 'do', 'mnie', 'z', 'Włocławka', 'Bończewska', 'z', 'karczemną', 'awanturą', ',', 'że', 'ma', 'przeze', 'mnie', 'kłopoty', ',', 'że', 'urząd', 'skarbowy', 'ją', 'będzie', 'ścigał', '.', 'W', 'czasie', 'kontroli', 'okazało', 'się', 'że', 'firma', 'Haszczakiewicza', '(', 'ta', ',', 'której', 'faktury', 'były', 'podkładką', 'do', 'wyprowadzenia', 'pieniędzy', ')', 'od', 'dawna', 'nie', 'istnieje', ',', 'a', 'faktura', 'i', 'umowa', 'są', 'nieważne', '-', 'mówi', 'Łukaszek', '.', '-', 'Ale', 'co', 'jej', 'miał', 'em', 'powiedzieć', '?', 'Przecież', 'ja', 'tego', 'Haszczakiewicza', 'nie', 'znał', 'em', ',', 'to', 'był', 'człowiek', 'Pasikowskiego', '.', 'A', 'poza', 'tym', 'on', 'się', 'nawet', 'nigdzie', 'nie', 'pojawił', ',', 'Pasikowski', 'miał', 'przecież', 'tylko', 'podpisane', 'przez', 'tamtego', 'dokumenty', '.', 'Łukaszek', 'jest', 'roztrzęsiony', '.', 'Udostępnił', 'konto', 'firmy', 'żony', 'bez', 'jej', 'wiedzy', '.', '-', 'Dowiedziała', 'się', 'o', 'wszystkim', 'od', 'policjantów', 'z', 'CBŚ', '.', 'Jak', 'przyjechali', 'przed', 'piątą', ',', 'był', 'em', 'w', 'Giżycku', 'i', 'ściągnęli', 'mnie', 'przez', 'komórkę', '.', 'Żona', 'chce', 'się', 'ze', 'mną', 'rozwieść', ',', 'straciła', 'do', 'mnie', 'zaufanie', '.', 'Po', 'co', 'mi', 'to', 'było', '?', '-', 'żali', 'się', '.', 'Przysięga', ',', 'że', 'to', 'jedyna', 'taka', 'transakcja', ',', 'w', 'której', 'wziął', 'udział', '.', 'Utrzymuje', ',', 'że', 'nic', 'z', 'niej', 'nie', 'miał', '.', '-', 'OSOBY', 'WYSTĘPUJĄCE', 'W', 'TEKŚCIE', ':', '1', '.', 'Piotr', 'Borkowski', '-', 'zdaniem', 'Łukaszka', 'tajemniczy', 'organizator', 'wyprowadzenia', 'dwóch', 'milionów', 'z', 'PZU', '.', 'To', 'on', 'w', 'motelu', 'nad', 'jeziorem', 'przejął', 'neseser', 'z', 'dwoma', 'milionami', 'złotych', '.', '2', '.', 'Grażyna', 'Bończewska', '-', 'właścicielka', 'i', 'prezes', 'spółki', '\"', 'Grażyna', 'Bończewska', '\"', 'z', 'Włocławka', 'pośredniczącej', 'w', 'zakupie', 'nieruchomości', '.', '3', '.', 'Włodzimierz', 'Bogucki', '-', 'handlarz', 'biżuterią', 'z', 'Bydgoszczy', '.', 'Nadwyżki', 'inwestuje', 'w', 'nieruchomości', ',', 'które', 'stara', 'się', 'potem', 'zyskownie', 'sprzedać', '.', 'Sprzedał', 'działkę', 'PZU', 'SA', '.', '4', '.', 'Piotr', 'Kudlak', '-', 'pracownik', 'PZU', 'Development', '-', 'w', 'imieniu', 'firmy', 'kupił', 'działkę', 'od', 'Boguckiego', '.', 'Posługiwał', 'się', 'pełnomocnictwem', 'Jacka', 'Mejznera', 'i', 'Jacka', 'Berdyna', 'z', 'zarządu', 'PZU', 'SA', '.', 'Nie', 'ma', 'wątpliwości', 'co', 'do', 'oryginalności', 'jego', 'pełnomocnictw', '.', '5', '.', 'Wojciech', 'Łukaszek', '-', 'przedsiębiorca', 'z', 'Pozezdrza', '(', 'woj', '.', 'warmińsko', '-', 'mazurskie', ')', '.', 'Pomógł', 'w', 'transferze', 'dwóch', 'milionów', 'złotych', 'wyprowadzonych', 'z', 'PZU', 'w', 'czasie', 'zakupu', 'działki', 'w', 'Bydgoszczy', ',', 'grozi', 'mu', 'za', 'to', 'zarzut', 'pomocy', 'w', 'praniu', 'brudnych', 'pieniędzy', '.', '6', '.', 'Adam', 'Pasikowski', '-', 'znajomy', 'Łukaszka', ',', 'załatwił', 'pośrednictwo', ',', 'na', 'które', 'miała', 'być', 'wystawiona', 'fikcyjna', 'faktura', 'przez', 'firmę', 'Grażyny', 'Bończewskiej', '.', 'Przywiózł', 'dokumenty', 'podpisane', 'przez', 'niejakiego', 'Władysława', 'Haszczakiewicza', '.', 'Okazało', 'się', ',', 'że', 'dokumenty', 'są', 'sfałszowane', ',', 'bo', 'firma', 'Haszczakiewicza', 'nie', 'istnieje', '.', '7', '.', 'Władysław', 'Haszczakiewicz', '-', 'jego', 'nazwisko', 'figuruje', 'na', 'fakturze', 'i', 'umowie', ',', 'on', 'sam', 'nigdy', 'fizycznie', 'nie', 'brał', 'udziału', 'w', 'transakcji', '.', '8', '.', 'Jacek', 'Berdyn', '-', 'p', '.', 'o', '.', 'prezes', 'PZU', '.', 'Uważany', 'za', 'człowieka', 'lojalnego', 'wobec', 'zawieszonego', 'prezesa', 'Władysława', 'Jamrożego', '.', 'Udzielił', 'pełnomocnictwa', 'na', 'zakup', 'działki', 'w', 'Bydgoszczy', ',', 'zaakceptował', 'warunki', 'zakupu', 'działki', '.', 'BYDGOSKA', 'TRANSAKCJA', 'PZU', 'SA', 'zapłacił', 'w', '2000', 'roku', 'za', 'działkę', 'wielkości', 'ok', '.', 'sześciu', 'tysięcy', 'metrów', 'kwadratowych', 'w', 'Bydgoszczy', '3', ',', '7', 'miliona', 'złotych', '.', 'Z', 'naszych', 'ustaleń', 'wynika', ',', 'że', 'do', 'sprzedającego', 'ziemię', 'trafiło', 'zaledwie', '1', ',', '6', 'miliona', '.', 'Reszta', 'pieniędzy', ',', 'ponad', 'dwa', 'miliony', 'złotych', ',', 'została', 'wyprowadzona', 'przez', 'konta', 'dwóch', 'firm', '.', 'Ostatnia', 'z', 'firm', 'wypłaciła', 'pieniądze', 'tajemniczemu', 'mężczyźnie', 'z', 'Warszawy', ',', 'zajmującemu', 'się', 'm', '.', 'in', '.', 'pośrednictwem', 'nieruchomościami', '.', 'W', 'operacji', 'tej', 'wzięło', 'udział', 'kilka', 'firm', 'i', 'kilkanaście', 'osób', '.', 'KOMENTARZ', 'PZU', 'bez', 'kontroli', 'PZU', 'ubezpiecza', 'miliony', 'Polaków', '.', 'Ale', 'gdy', 'się', 'ubezpiecza', 'miliony', 'ludzi', ',', 'trzeba', 'dbać', 'o', 'rozsądne', 'i', 'odpowiedzialne', 'zarządzanie', 'firmą', ',', 'by', 'nie', 'stracić', 'zaufania', 'i', 'pieniędzy', 'swoich', 'klientów', '.', 'Wygląda', 'na', 'to', ',', 'że', 'w', 'poprzednim', 'kierownictwie', 'PZU', 'myślano', 'o', 'wszystkim', ',', 'ale', 'nie', 'o', 'tym', '.', 'Opisana', 'dziś', 'na', 'naszych', 'łamach', 'historia', 'jednej', 'transakcji', 'Powszechnego', 'Zakładu', 'Ubezpieczeń', 'łamie', 'wszelkie', 'normy', 'przyjęte', 'w', 'biznesie', '.', 'Nieruchomość', 'w', 'Bydgoszczy', 'kupił', 'on', 'za', 'cenę', 'dwukrotnie', 'przekraczającą', 'jej', 'wartość', '-', 'tylko', 'po', 'to', ',', 'by', 'ogromne', 'pieniądze', 'trafiły', 'w', 'prywatne', 'ręce', '.', 'Co', 'było', 'potem', '?', 'Walizki', 'pieniędzy', ',', 'tajemniczy', 'motel', ',', 'fałszywy', 'pośrednik', ',', 'lewe', 'konto', '.', 'To', 'brzmi', 'niczym', 'scenariusz', 'gangsterskiego', 'filmu', ',', 'a', 'nie', 'opis', 'działań', 'największej', 'polskiej', 'firmy', 'ubezpieczeniowej', '.', 'Odpowiedzialność', 'karną', 'powinni', 'ponieść', 'uczestnicy', 'tej', 'oszukańczej', 'transakcji', '.', 'Nie', 'sposób', 'jednak', 'nie', 'zapytać', ',', 'gdzie', 'wtedy', ',', 'gdy', 'miały', 'miejsce', 'opisywane', 'zdarzenia', ',', 'byli', 'członkowie', 'zarządu', 'PZU', '?', 'Jak', 'kontrolowała', 'ich', 'działania', 'rada', 'nadzorcza', '?', 'W', 'jaki', 'sposób', 'nadzór', 'właścicielski', 'sprawowało', 'Ministerstwo', 'Skarbu', ',', 'które', 'miało', 'większościowy', 'pakiet', 'akcji', '?', 'PZU', 'i', 'jego', 'siostrzana', 'spółka', 'PZU', 'Życie', 'od', 'dawna', 'były', 'obiektem', 'zainteresowania', 'mediów', '.', 'Poprzednie', 'kierownictwa', 'obu', 'instytucji', 'przez', 'wiele', 'miesięcy', 'raczyły', 'nas', 'mieszaniną', 'nieudolności', 'i', 'prywaty', '.', 'Wszystko', 'wskazuje', 'na', 'to', ',', 'że', 'tej', 'drugiej', 'było', 'znacznie', 'więcej', '.', 'W', 'końcu', 'ekipy', 'kierownicze', 'największych', 'polskich', 'ubezpieczycieli', 'trafiły', 'pod', 'lupy', 'policji', 'i', 'prokuratury', '.', 'Szkoda', ',', 'że', 'tak', 'późno', '.', 'Ewa', 'Kluczkowska']\n",
      "/home/ksaputa/mspace/dataset/dataset/PCC-1.5-TEI-split/test/307\n",
      "1 270 274 ['najważniejszych', 'sprawach', 'w', 'państwie'] ['kompletnie', 'nie', 'zgadzam', 'się', 'z', 'tą', 'interpretacją', 'że', 'ruch', '.', 'to', 'wskazanie', 'Marka', 'Belki', 'jest', 'obliczone', 'na', 'pozyskanie', 'przez', 'Bronisława', 'Komorowskiego', 'elektoratu', 'centrolewicowego', 'wszystkie', 'badania', 'pokazują', 'że', 'ten', 'elektorat', 'centrolewicowy', 'jest', 'zdecydowany', 'głosować', 'na', '.', 'Komorowskiego', '.', 'SLD', 'z', 'całym', 'szacunkiem', 'ma', 'te', 'między', 'pięć', 'a', 'siedem', 'procent', 'twardego', 'elektor', 'elektoratu', 'lewicowego', 'a', 'nie', 'centrolewicowego', 'to', 'po', 'pierwsze', 'po', 'drugie', 'wydaje', 'mi', 'się', 'że', '.', 'akurat', 'mam', '.', 'prawo', 'bronić', 'decyzji', '.', 'marszałka', 'Komorowskiego', 'żeby', 'już', 'teraz', 'zgłaszać', 'kandydata', 'na', 'prezesa', 'banku', 'bo', 'po', 'pierwsze', 'od', 'początku', 'mówił', 'em', 'że', 'akurat', 'ta', 'instytucja', 'w', 'przeciwieństwie', 'do', 'niektórych', 'innych', '.', 'ta', 'instytucja', '.', 'powinna', 'zostać', 'obsadzona', 'natychmiast', '.', 'no', 'a', 'a', 'po', 'drugie', 'ja', 'jak', 'pan', 'wie', '.', 'jak', 'pan', 'wie', 'no', 'ale', 'to', 'po', 'co', 'były', 'te', 'zmiany', 'przepisów', 'i', 'umocowanie', 'pełniącego', 'obowiązki', 'pana', 'Wiesiołka', '?', 'no', 'tak', 'czy', 'owak', '.', 'nie', 'mogło', 'być', 'sytuacji', 'luki', 'prawnej', 'przecież', 'nawet', 'po', 'zgłoszeniu', 'jakiejś', 'kandydatury', 'jeszcze', 'musi', 'upłynąć', '.', 'te', 'co', 'najmniej', 'kilkanaście', 'dni', 'żeby', 'Marek', 'Belka', 'ewentualnie', '.', 'został', 'tym', 'prezesem', 'a', 'w', 'tym', 'czasie', 'bank', 'musi', 'normalnie', 'funkcjonować', 'natomiast', 'jeszcze', 'żeby', 'ale', 'on', 'funkcjonuje', 'nieźle', 'jeszcze', 'żeby', 'uwiarygodnić', 'tę', 'moja', 'obronę', 'ja', 'chcę', 'powiedzieć', 'że', '.', 'akurat', 'panowie', 'wiecie', 'że', 'nie', 'wszystkie', 'decyzje', 'marszałka', 'Komorowskiego', 'przy', 'przyjmował', 'em', 'z', 'entuzjazmem', 'i', 'jeżeli', 'chodzi', 'o', 'ustawę', 'o', 'IPN-ie', 'i', 'jeżeli', 'chodzi', 'o', 'natychmiastowe', 'mianowanie', 'szefa', '.', 'w', 'kancelarii', 'prezydenckiej', '.', 'natomiast', 'ta', 'decyzja', '.', 'wydaje', 'mi', 'się', 'w', 'pełni', 'uzasadniona', 'jedno', 'jedno', 'słowo', 'komentarza', 'jeśli', 'marszałek', 'zdołał', 'spowodować', 'że', 'w', 'czasie', 'kampanii', 'prezydenckiej', 'powstała', 'rada', 'bezpieczeństwa', 'narodowego', 'skoro', '.', 'przedstawiciele', 'różnych', 'formacji', 'politycznych', 'potrafili', 'usiąść', 'do', 'wspólnego', 'stołu', 'i', 'rozmawiać', 'o', 'najważniejszych', 'sprawach', 'w', 'państwie']\n",
      "/home/ksaputa/mspace/dataset/dataset/PCC-1.5-TEI-split/test/307\n",
      "0 273 274 ['państwie'] ['kompletnie', 'nie', 'zgadzam', 'się', 'z', 'tą', 'interpretacją', 'że', 'ruch', '.', 'to', 'wskazanie', 'Marka', 'Belki', 'jest', 'obliczone', 'na', 'pozyskanie', 'przez', 'Bronisława', 'Komorowskiego', 'elektoratu', 'centrolewicowego', 'wszystkie', 'badania', 'pokazują', 'że', 'ten', 'elektorat', 'centrolewicowy', 'jest', 'zdecydowany', 'głosować', 'na', '.', 'Komorowskiego', '.', 'SLD', 'z', 'całym', 'szacunkiem', 'ma', 'te', 'między', 'pięć', 'a', 'siedem', 'procent', 'twardego', 'elektor', 'elektoratu', 'lewicowego', 'a', 'nie', 'centrolewicowego', 'to', 'po', 'pierwsze', 'po', 'drugie', 'wydaje', 'mi', 'się', 'że', '.', 'akurat', 'mam', '.', 'prawo', 'bronić', 'decyzji', '.', 'marszałka', 'Komorowskiego', 'żeby', 'już', 'teraz', 'zgłaszać', 'kandydata', 'na', 'prezesa', 'banku', 'bo', 'po', 'pierwsze', 'od', 'początku', 'mówił', 'em', 'że', 'akurat', 'ta', 'instytucja', 'w', 'przeciwieństwie', 'do', 'niektórych', 'innych', '.', 'ta', 'instytucja', '.', 'powinna', 'zostać', 'obsadzona', 'natychmiast', '.', 'no', 'a', 'a', 'po', 'drugie', 'ja', 'jak', 'pan', 'wie', '.', 'jak', 'pan', 'wie', 'no', 'ale', 'to', 'po', 'co', 'były', 'te', 'zmiany', 'przepisów', 'i', 'umocowanie', 'pełniącego', 'obowiązki', 'pana', 'Wiesiołka', '?', 'no', 'tak', 'czy', 'owak', '.', 'nie', 'mogło', 'być', 'sytuacji', 'luki', 'prawnej', 'przecież', 'nawet', 'po', 'zgłoszeniu', 'jakiejś', 'kandydatury', 'jeszcze', 'musi', 'upłynąć', '.', 'te', 'co', 'najmniej', 'kilkanaście', 'dni', 'żeby', 'Marek', 'Belka', 'ewentualnie', '.', 'został', 'tym', 'prezesem', 'a', 'w', 'tym', 'czasie', 'bank', 'musi', 'normalnie', 'funkcjonować', 'natomiast', 'jeszcze', 'żeby', 'ale', 'on', 'funkcjonuje', 'nieźle', 'jeszcze', 'żeby', 'uwiarygodnić', 'tę', 'moja', 'obronę', 'ja', 'chcę', 'powiedzieć', 'że', '.', 'akurat', 'panowie', 'wiecie', 'że', 'nie', 'wszystkie', 'decyzje', 'marszałka', 'Komorowskiego', 'przy', 'przyjmował', 'em', 'z', 'entuzjazmem', 'i', 'jeżeli', 'chodzi', 'o', 'ustawę', 'o', 'IPN-ie', 'i', 'jeżeli', 'chodzi', 'o', 'natychmiastowe', 'mianowanie', 'szefa', '.', 'w', 'kancelarii', 'prezydenckiej', '.', 'natomiast', 'ta', 'decyzja', '.', 'wydaje', 'mi', 'się', 'w', 'pełni', 'uzasadniona', 'jedno', 'jedno', 'słowo', 'komentarza', 'jeśli', 'marszałek', 'zdołał', 'spowodować', 'że', 'w', 'czasie', 'kampanii', 'prezydenckiej', 'powstała', 'rada', 'bezpieczeństwa', 'narodowego', 'skoro', '.', 'przedstawiciele', 'różnych', 'formacji', 'politycznych', 'potrafili', 'usiąść', 'do', 'wspólnego', 'stołu', 'i', 'rozmawiać', 'o', 'najważniejszych', 'sprawach', 'w', 'państwie']\n",
      "/home/ksaputa/mspace/dataset/dataset/PCC-1.5-TEI-split/test/157\n",
      "0 273 275 ['Halina', 'Paszkowska'] ['Okupacyjne', 'wspomnienia', 'Władysława', 'Szpilmana', 'należały', 'do', 'najlepiej', 'sprzedających', 'się', 'książek', 'ubiegłego', 'roku', '.', 'Po', 'wielkim', 'sukcesie', 'ekranizacji', '\"', 'Pianisty', '\"', 'Polańskiego', 'na', 'festiwalu', 'w', 'Cannes', 'zainteresowanie', 'tą', 'tematyką', 'z', 'pewnością', 'jeszcze', 'wzrośnie', '.', 'Tym', 'bardziej', 'warto', 'polecić', 'książkę', 'nie', 'mniej', 'interesującą', ',', 'a', 'trochę', 'zepchniętą', 'w', 'cień', ',', 'mianowicie', '\"', 'Ucieczkę', 'z', 'getta', '\"', 'Haliny', 'Zawadzkiej', '.', 'Co', 'mnie', 'w', 'niej', 'zafascynowało', '-', 'to', 'wątek', 'nieustającego', 'poczucia', 'zagrożenia', 'w', 'obcym', ',', 'wrogim', 'świecie', '.', 'Żydówka', 'uciekła', 'z', 'getta', ',', 'a', 'dwie', 'wspaniałe', ',', 'szlachetne', 'Polki', 'przygarnęły', 'ją', 'i', 'chroniły', 'do', 'końca', '.', 'A', 'przecież', 'każdy', 'dzień', 'stanowił', 'dla', 'uciekinierki', 'śmiertelne', 'zagrożenie', 'ze', 'strony', 'ludzi', ',', 'z', 'którymi', 'miała', 'kontakt', '.', 'Żeby', 'nie', 'rozpoznali', 'jej', 'tożsamości', ',', 'żeby', 'jej', 'nie', 'zadenuncjowali', '.', 'Niesłychanie', 'dramatycznym', 'fragmentem', 'tej', 'arcyciekawej', 'autobiograficznej', 'opowieści', 'jest', 'scena', ',', 'gdy', 'syn', 'jednej', 'z', 'Polek', ',', 'dowiedziawszy', 'się', 'komu', 'matka', 'daje', 'schronienie', ',', 'niemal', 'wpada', 'w', 'szał', 'i', 'tylko', 'strach', 'przed', 'konsekwencjami', 'wobec', 'matki', 'powstrzymuje', 'go', 'przed', 'popełnieniem', 'podłości', '.', 'Tu', 'refleksja', ':', 'mówimy', 'często', ',', 'że', 'wielu', 'Polaków', 'zginęło', 'ratując', 'Żydów', 'i', 'że', 'ginęli', '-', 'co', 'jest', 'prawdą', '-', 'razem', 'z', 'ratowanymi', ',', 'ale', 'pomijamy', 'ważny', 'szczegół', ',', 'że', 'w', 'ogromnej', 'większości', 'przypadków', 'ginęli', 'po', 'denuncjacjach', 'innych', 'Polaków', '.', 'Autorka', 'książki', 'Halina', 'Zawadzka', 'spisała', 'swoje', 'wspomnienia', 'nie', 'mogąc', 'zapomnieć', 'upokorzenia', ',', 'jakiego', 'doznała', ',', 'gdy', 'wysłuchiwała', 'od', 'swoich', 'aryjskich', 'współtowarzyszy', 'obelżywych', 'i', 'drwiących', 'wypowiedzi', 'na', 'temat', '\"', 'Żydków', ',', 'z', 'którymi', 'Hitler', 'robi', 'porządek', '\"', '.', 'Wtedy', 'nie', 'mogła', 'odpowiednio', 'reagować', ',', 'lecz', 'musiała', '-', 'aby', 'nie', 'zdradzić', 'się', 'ze', 'swoimi', 'uczuciami', '-', 'dosłownie', 'robić', 'dobrą', 'minę', 'do', 'złej', 'gry', '.', 'Nie', 'tylko', 'jej', 'ten', 'upokarzający', 'ból', 'pozostał', 'do', 'dziś', '.', 'Halina', 'Paszkowska']\n",
      "/home/ksaputa/mspace/dataset/dataset/PCC-1.5-TEI-split/test/209\n",
      "1 272 278 ['oryginalne', 'zdjęcie', 'piosenkarza', 'sprzed', '30', 'lat'] ['Magda', 'za', 'złotówkę', 'Mieszkaniec', 'Oświęcimia', 'za', 'bilet', 'na', 'występ', 'Ich', 'Troje', ',', 'który', 'odwołano', '(', 'bo', 'podobno', 'organizator', 'przywłaszczył', 'sobie', 'kasę', ')', ',', 'żądał', 'tylko', '2', 'zł', '55', 'groszy', '.', 'Fan', 'Ich', 'Troje', 'z', 'Warszawy', 'proponuje', 'siedem', 'fotek', 'grupy', '(', 'jeszcze', 'z', 'Justyną', 'w', 'składzie', ')', 'wykonanych', 'podczas', 'koncertu', '.', 'Cena', '-', '15', 'zł', '.', 'Wśród', 'przedmiotów', 'dotyczących', 'zespołu', 'Michała', 'Wiśniewskiego', 'przeważają', 'oczywiście', 'płyty', 'i', 'książki', '.', 'Ich', 'ceny', 'na', 'ogół', 'niewiele', 'odbiegają', 'od', 'tych', 'sklepowych', '.', 'Ale', 'zwolennicy', 'grupy', 'mieli', 'też', 'okazję', 'zobaczyć', ',', 'jak', 'wygląda', 'dawna', 'wokalistka', 'kapeli', 'Magda', 'Femme', 'na', 'zdjęciach', 'w', 'piśmie', 'dla', 'panów', '.', 'Magazyn', 'sprzedano', 'za', '.', '.', '.', 'złotówkę', '.', 'Za', '2', 'do', '5', 'zł', 'można', 'nabyć', 'fotki', 'nagiej', 'Anity', 'Lipnickiej', 'opublikowane', 'w', '\"', 'Playboyu', '\"', 'Autograf', 'Krawczyka', 'za', '5', 'zł', 'Wśród', 'innych', 'wykonawców', 'związanych', 'z', 'Łodzią', 'na', 'internetowej', 'giełdzie', 'można', 'znaleźć', 'płyty', 'Trubadurów', ',', 'No', 'To', 'Co', ',', 'Bractwa', 'Kurkowego', '1971', ',', 'Krzysztofa', 'Krawczyka', ',', 'Michała', 'Urbaniaka', 'i', 'Blue', 'Cafe', '.', 'Np', '.', 'za', 'oryginalną', 'czarną', 'płytę', 'No', 'To', 'Co', 'sprzed', '30', 'lat', 'pt', '.', '\"', 'W', 'malowanej', 'piwnicy', '\"', 'trzeba', 'zapłacić', '20', 'zł', '.', 'Co', 'ciekawe', ',', 'tańsze', 'są', 'zupełnie', 'współczesne', 'kompakty', 'tej', 'grupy', '.', '.', '.', 'Przeważnie', 'kosztują', '15', 'zł', '.', 'Znaleźli', 'śmy', 'też', 'longplaye', 'supermodnej', 'w', 'latach', '70', '.', 'grupy', 'Happy', 'End', '(', 'przebój', '\"', 'Jak', 'się', 'masz', 'kochanie', '\"', ')', '.', 'Trzeba', 'za', 'nie', 'zapłacić', 'od', 'kilku', 'do', '32', 'zł', '(', 'w', 'zależności', 'od', 'stanu', 'płyt', ')', '.', 'Fani', 'Krzysztofa', 'Krawczyka', 'już', 'za', '5', 'zł', 'mogą', 'kupić', 'kompakt', 'piosenkarza', 'z', 'jego', 'autografem', 'zdobytym', 'w', 'ubiegłym', 'roku', 'po', 'koncercie', 'w', 'Świnoujściu', '.', 'Także', 'za', '\"', 'piątaka', '\"', 'internauta', 'z', 'Krakowa', 'proponuje', 'oryginalne', 'zdjęcie', 'piosenkarza', 'sprzed', '30', 'lat']\n",
      "/home/ksaputa/mspace/dataset/dataset/PCC-1.5-TEI-split/test/686\n",
      "0 248 252 ['041', '36', '36', '257'] ['14', ':', '03', 'Tak', 'obfitującego', 'w', 'wypadki', 'drogowe', 'weekendu', 'dawno', 'nie', 'mieli', 'radomscy', 'policjanci', '.', 'Niestety', '-', 'dwa', 'okazały', 'się', 'śmiertelne', 'w', 'skutkach', '.', 'Do', 'pierwszej', 'tragedii', 'doszło', 'w', 'sobotę', 'o', 'godzinie', '5', '.', '50', 'w', 'Karszówce', 'na', 'trasie', 'z', 'Radomia', 'do', 'Zwolenia', '.', 'Mercedesem', 'jechała', 'niemiecka', 'rodzina', '.', 'Kierujący', 'samochodem', '43-letni', 'mężczyzna', 'z', 'nieznanych', 'dotąd', 'przyczyn', 'zjechał', 'do', 'przydrożnego', 'rowu', ',', 'z', 'którego', 'ponownie', 'wjechał', 'na', 'jezdnię', '.', 'Tam', 'auto', 'dachowało', '.', 'W', 'wyniku', 'zdarzenia', 'zginęła', 'na', 'miejscu', '46-letnia', 'pasażerka', '.', 'Kierowca', 'auta', 'oraz', 'dwaj', 'pozostali', 'pasażerowie', 'w', 'wieku', '5', 'i', '18', 'lat', 'zostali', 'przewiezieni', 'do', 'szpitala', '.', 'Kolejną', 'tragedię', 'policjanci', 'odnotowali', 'w', 'niedzielę', ',', 'na', 'trasie', 'numer', '7', 'o', 'godzinie', '4', '.', '20', 'we', 'Wsoli', '.', 'Kierujący', 'fiatem', 'pandą', 'potrącił', 'w', 'okolicach', 'przejścia', 'dla', 'pieszych', '45-latka', '.', 'Mężczyzna', 'zginął', 'od', 'razu', ',', 'od', 'jego', 'ciała', 'oderwana', 'została', 'noga', '.', 'Fiat', 'po', 'zmasakrowaniu', 'człowieka', 'przejechał', 'na', 'przeciwny', 'pas', 'ruchu', 'i', 'uderzył', 'w', 'dostawczego', 'mercedesa', ',', 'który', 'wjechał', 'do', 'rowu', ',', 'otarł', 'się', 'także', 'jeszcze', 'o', 'volkswagena', 'golfa', '.', 'Kierowcy', 'oraz', 'pasażerowie', 'tych', 'samochodów', 'nie', 'ucierpieli', '.', 'O', 'ogromnym', 'szczęści', 'mógł', 'także', 'mówić', '20-latek', ',', 'który', 'kierując', 'daewoo', 'tico', 'wjechał', 'w', 'okolicach', 'Wielogóry', 'do', 'przydrożnego', 'rowu', 'i', 'uderzył', 'w', 'słup', 'oświetleniowy', '.', 'Doznał', 'jedynie', 'złamania', 'nogi', '.', 'Z', 'samochodu', 'pozostał', 'niezniszczony', 'praktycznie', 'tylko', 'znaczek', 'na', 'tylnej', 'klapie', 'z', 'nazwą', 'marki', 'auta', '.', 'Wiesz', 'o', 'czymś', 'ważnym', ',', 'interesującym', '?', 'Daj', 'nam', 'o', 'tym', 'znać', '!', 'Czekamy', 'na', 'Twoja', 'informację', '.', 'tel', '.', ':', '041', '36', '36', '263', ',', '041', '36', '36', '257']\n"
     ]
    }
   ],
   "source": [
    "pred_path = Path(local_config['PCC_ROOT']) / 'plotkarzyna_herbert_large_preds'\n",
    "for doc, pred in zip(tei_docs, preds):\n",
    "    doc.layers['mentions'].remove_mentions()\n",
    "    for ind, span in enumerate(pred[-2]):\n",
    "        start, end = span\n",
    "        segments = doc.text.segments[start:(end)]\n",
    "        head = get_head(segments, nlp)\n",
    "        try:\n",
    "            doc.layers['mentions'].add_mention(\n",
    "                Mention(\n",
    "                    id=f\"mention_{ind}\",\n",
    "                    text=' '.join(segments),\n",
    "                    segments=segments,\n",
    "                    span_start=start,\n",
    "                    span_end=end,\n",
    "                    lemmatized_text=None,\n",
    "                    head_orth=None,\n",
    "                    head=start + head,\n",
    "                    cluster_id=None,\n",
    "                ),\n",
    "                doc.text.segments_meta\n",
    "            )\n",
    "        except:\n",
    "            print(doc.doc_path)\n",
    "            print(head, start, len(doc.text.segments_meta), segments, doc.text.segments)\n",
    "    doc.to_file(pred_path / doc.doc_path.name)"
   ]
  },
  {
   "cell_type": "code",
   "execution_count": 10,
   "metadata": {},
   "outputs": [
    {
     "name": "stdout",
     "output_type": "stream",
     "text": [
      "Katowicach\n",
      "zespołów mieszkaniowych\n",
      "15 placów budowy zespołów mieszkaniowych\n",
      "budowy zespołów mieszkaniowych\n",
      "katowickim Osiedlu Ptasim\n",
      "Firma Holdimex , budująca na katowickim Osiedlu Ptasim\n",
      "nowe ulice\n",
      "13-hektarowy teren , na którym powstają nowe ulice\n",
      "zrealizowała\n",
      "400 mieszkań : przy ul Zimorodków , Gawronów , Kormoranów , Drozdów\n",
      "ul Zimorodków , Gawronów , Kormoranów , Drozdów\n",
      "Zimorodków , Gawronów , Kormoranów , Drozdów\n",
      "przygotowaniu\n",
      "ulica Pliszek\n",
      "Pliszek\n",
      "Drugie tyle\n",
      "Holdimex\n",
      "Osiedlu Ptasim\n",
      "Osiedlu Ptasim\n",
      "urozmaiconej architekturze\n",
      "trzy- lub pięcio piętrowych budynkach o urozmaiconej architekturze\n",
      "pięcio piętrowych budynkach o urozmaiconej architekturze\n",
      "urozmaiconej architekturze\n",
      "tu\n",
      "cierpliwość\n",
      "szybkim tempie\n",
      "mieszkania , które są jeszcze na papierze , a będą gotowe dopiero w 2008 r .\n",
      "papierze , a będą gotowe dopiero w 2008 r . Ich cena\n",
      "dotychczasowej\n",
      "tak zwanym stanie deweloperskim\n",
      "metr kwadratowy w tak zwanym stanie deweloperskim\n",
      "białego montażu\n",
      "drzwi wewnętrznych\n",
      "pokryć podłogowych\n",
      "3 . 900 zł brutto\n",
      "podatkiem VAT\n",
      "Całkowite ceny , wyliczane wraz z podatkiem VAT\n",
      "firma Exland\n",
      "Jej\n",
      "sprzedania\n",
      "ul . Panewnickiej , gdzie zbudowała ich 40\n",
      "dwa mieszkania przy ul . Panewnickiej , gdzie zbudowała ich 40\n",
      "ich 40\n",
      "budowy\n",
      "ul . Partyzantów\n",
      "metr kwadratowy\n",
      "budynek przy ul . Partyzantów , w którym będzie 30 mieszkań w cenie po 2 . 600 zł brutto za metr kwadratowy\n",
      "30 mieszkań w cenie po 2 . 600 zł brutto za metr kwadratowy\n",
      "cenie po 2 . 600 zł brutto za metr kwadratowy\n",
      "2 . 600 zł brutto za metr kwadratowy\n",
      "zostaną\n",
      "2007 r .\n",
      "kwietniu 2007 r . Apartament za milion\n",
      "Apartament za milion\n",
      "Apartament za milion\n",
      "Apartament za milion\n",
      "milion\n",
      "Osiedle Bażantów w Katowicach Kostuchnie\n",
      "Bażantów w Katowicach Kostuchnie , budowane od 2001 r . przez Millenium Inwestycje\n",
      "2001 r . przez Millenium Inwestycje\n",
      "Millenium Inwestycje\n",
      "Millenium Inwestycje\n",
      "ono\n",
      "kompleks sportowy\n",
      "korty tenisowe\n",
      "boisko , korty tenisowe\n",
      "korty tenisowe\n",
      "halę do squasha\n",
      "squasha , place zabaw\n",
      "Tutejsze mieszkania\n",
      "Tutejsze mieszkania i domy\n",
      "Tutejsze mieszkania i domy\n",
      "domy\n",
      "realizacji\n",
      "tym roku\n",
      "firma\n",
      "zabudowie szeregowej\n",
      "zabudowie szeregowej ( po 9 w każdym ciągu\n",
      "domów w zabudowie szeregowej ( po 9 w każdym ciągu ) , które zakupiono jeszcze na początku 2005 r .\n",
      "dwa zespoły domów w zabudowie szeregowej ( po 9 w każdym ciągu ) , które zakupiono jeszcze na początku 2005 r . Metr mieszkania\n",
      "9 w każdym ciągu ) , które zakupiono jeszcze na początku 2005 r . Metr mieszkania\n",
      "2 . 590 zł\n",
      "Ceny domów\n",
      "domów\n",
      "2200 zł za metr\n",
      "metr\n",
      "działek 160 zł za metr\n",
      "wszystkie kwoty\n",
      "7 proc . podatku VAT , który trzeba doliczyć\n"
     ]
    }
   ],
   "source": [
    "for mention in preds[-1][-1]:\n",
    "    print(' '.join(mention))"
   ]
  },
  {
   "cell_type": "code",
   "execution_count": 11,
   "metadata": {},
   "outputs": [],
   "source": [
    "pred = preds[-1]\n",
    "tokens, offset = pred[0], pred[-1]"
   ]
  },
  {
   "cell_type": "code",
   "execution_count": 12,
   "metadata": {},
   "outputs": [
    {
     "data": {
      "text/plain": [
       "['Katowicach']"
      ]
     },
     "execution_count": 12,
     "metadata": {},
     "output_type": "execute_result"
    }
   ],
   "source": [
    "offset[0]"
   ]
  },
  {
   "cell_type": "code",
   "execution_count": null,
   "metadata": {},
   "outputs": [],
   "source": []
  }
 ],
 "metadata": {
  "kernelspec": {
   "display_name": "plotkarzyna-gUYfE6Hq-py3.10",
   "language": "python",
   "name": "python3"
  },
  "language_info": {
   "codemirror_mode": {
    "name": "ipython",
    "version": 3
   },
   "file_extension": ".py",
   "mimetype": "text/x-python",
   "name": "python",
   "nbconvert_exporter": "python",
   "pygments_lexer": "ipython3",
   "version": "3.10.12"
  },
  "orig_nbformat": 4
 },
 "nbformat": 4,
 "nbformat_minor": 2
}
